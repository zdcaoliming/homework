{
  "metadata": {
    "kernelspec": {
      "name": "python",
      "display_name": "Pyolite",
      "language": "python"
    },
    "language_info": {
      "codemirror_mode": {
        "name": "python",
        "version": 3
      },
      "file_extension": ".py",
      "mimetype": "text/x-python",
      "name": "python",
      "nbconvert_exporter": "python",
      "pygments_lexer": "ipython3",
      "version": "3.8"
    }
  },
  "nbformat_minor": 4,
  "nbformat": 4,
  "cells": [
    {
      "cell_type": "markdown",
      "source": "<center>\n    <img src=\"https://s3-api.us-geo.objectstorage.softlayer.net/cf-courses-data/CognitiveClass/Logos/organization_logo/organization_logo.png\" width=\"300\" alt=\"cognitiveclass.ai logo\"  />\n</center>\n",
      "metadata": {}
    },
    {
      "cell_type": "markdown",
      "source": "#### Add your code below following the instructions given in the course\n",
      "metadata": {}
    },
    {
      "cell_type": "markdown",
      "source": "<h1>My Jupyter Notebook on IBM Watson Studio</h1>",
      "metadata": {}
    },
    {
      "cell_type": "markdown",
      "source": "<b>Liming Cao</b>\n\nAccountant",
      "metadata": {}
    },
    {
      "cell_type": "markdown",
      "source": "I am interested in data science because of its powerful ability to deal with data.",
      "metadata": {}
    },
    {
      "cell_type": "markdown",
      "source": "<h3> In cell5, the code need to do calculation for 1+1 and show the result.</h3>",
      "metadata": {}
    },
    {
      "cell_type": "code",
      "source": "3*7",
      "metadata": {
        "trusted": true
      },
      "execution_count": 2,
      "outputs": [
        {
          "execution_count": 2,
          "output_type": "execute_result",
          "data": {
            "text/plain": "21"
          },
          "metadata": {}
        }
      ]
    },
    {
      "cell_type": "markdown",
      "source": "<table>\n    <tr>\n        <th>Bullets</th>\n        <th>Numbers</th>\n    <tr>\n     <tr>\n         <td>\n             <ul>\n                 <li>A</li>\n                 <li>B</li>\n             </ul>\n          </td>\n         <td>\n             <ol>\n                 <li>A</li>\n                 <li>B</li>\n              </ol>\n             ",
      "metadata": {}
    }
  ]
}